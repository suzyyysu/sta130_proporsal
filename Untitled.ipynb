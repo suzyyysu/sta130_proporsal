{
 "cells": [
  {
   "cell_type": "markdown",
   "id": "1baa06fc",
   "metadata": {},
   "source": [
    "### 1. Research Question One\n",
    "Is there a RELATIONSHIP between LGBTQ2+ identity and social loneliness?\n",
    "### 2. Variables\n",
    "- **Grouping Variable (Independent Variable):** `DEMO_identity_lgbtq` — Categorical （binary）variable reflecting if an individual identifies as LGBTQ2+ (`Sexual or gender minorities`) or `Not Selected`.\n",
    "- **Outcome Variable (Dependent Variable):** `LONELY_dejong_emotional_social_loneliness_scale_score_y_n` — Categorical variable indicating whether an individual reports emotional and social loneliness (`yes` or `no`).\n",
    "\n",
    "### 3. Analysis (Chi-square test of independence)\n",
    "- **Chi-square Test of Independence**: By comparing the observed data with expected counts (assuming no association), the test helps identify if LGBTQ2+ individuals experience different levels of loneliness than non-LGBTQ2+ individuals. \n",
    "- **Descriptive Statistics**: Calculate the proportion of individuals reporting loneliness within each group (LGBTQ2+ vs. non-LGBTQ2+) to summarize and compare loneliness levels.\n",
    "\n",
    "### 4. Visualizations\n",
    "- **Bar Chart**: Display the distribution of loneliness responses (\"yes\" or \"no\") within LGBTQ2+ and non-LGBTQ2+ groups.\n",
    "- **Stacked Bar Chart**: To show the relative proportions of loneliness within each LGBTQ2+ status category for a clear comparison.\n",
    "\n",
    "### 5. Assumptions\n",
    "- **Independence of Observations**: Each individual’s LGBTQ2+ identity and loneliness response should be independent of others.\n",
    "- **Expected Frequencies**: The chi-square test requires that each cell in the contingency table has an expected frequency of at least 5.\n",
    "\n",
    "### 6. Hypothesis Testing\n",
    "- **Null Hypothesis (H0):** There is no association between LGBTQ2+ identity and reported social loneliness.\n",
    "- **Alternative Hypothesis (H1):** There is a significant association between LGBTQ2+ identity and reported social loneliness."
   ]
  },
  {
   "cell_type": "markdown",
   "id": "8c77fbe1",
   "metadata": {},
   "source": [
    "### 1. Research Question Two\n",
    "Is there an association between communication disability and mental health disability (including depression)?\n",
    "### 2. Variables\n",
    "- **Independent Variable (Categorical): `DEMO_disability_communication` — Indicates whether an individual has a communication disability.\n",
    "- **Dependent Variable (Categorical): `Mental health disability (including depression)` — Indicates whether an individual has a mental health disability, such as depression.\n",
    "### 3. Analysis\n",
    "- **Chi-square Test of Independence**: This test will assess whether the distribution of mental health disability (yes/no) differs significantly between individuals with and without a communication disability.\n",
    "- **Descriptive Statistics**: Calculate the proportion of individuals reporting mental health disabilities within each group (communication disability vs. no communication disability) for comparison.\n",
    "### 4. Visualizations\n",
    "- **Bar Chart**: Display the distribution of mental health disability responses (\"yes\" or \"no\") within the groups of individuals with and without a communication disability.\n",
    "- **Stacked Bar Chart**: To show the relative proportions of mental health disability within each communication disability status for a clear comparison.\n",
    "### 5. Assumptions\n",
    "- **Independence of Observations**: Each individual's disability status should be independent of others.\n",
    "- **Expected Frequencies**: The Chi-square test requires that each cell in the contingency table has an expected frequency of at least 5.\n",
    "### 6. Hypothesis Testing\n",
    "- **Null Hypothesis (H0):** There is no association between communication disability and mental health disability (they are independent).\n",
    "- **Alternative Hypothesis (H1):** There is a significant association between communication disability and mental health disability."
   ]
  },
  {
   "cell_type": "markdown",
   "id": "e2da346d",
   "metadata": {},
   "source": [
    "### 1. Research Question Three\n",
    "**Is there an association between self-reported body image negatively affected and social dependence?**\n",
    "\n",
    "### 2. Variables\n",
    "- **Indicator Variable:** `PSYCH_body_self_image_questionnaire_negative_affect_score` — This measures how people negatively perceive their body image.\n",
    "- **Outcome Variable:** `PSYCH_body_self_image_questionnaire_social_dependence_score` — A score that represents the degree of social dependence. Higher scores indicate a greater need for social approval feel accepted or valued.\n",
    "\n",
    "### 3. Analysis (LINEAR REGRESSION)\n",
    "- **Correlation Analysis:** To quantify the strength and direction of the relationship between body image negative affect and social dependence scores.\n",
    "- **Regression Analysis:** To model the relationship between body image negative affect and social dependence scores, adjusting for potential confounders if necessary.\n",
    "\n",
    "### 4. Visualizations\n",
    "- **Scatter Plot:** To visualize the relationship between body image negative affect scores and social dependence scores.\n",
    "- **Histograms:** To show the distribution of negative affected body image and social dependence scores.\n",
    "- **Box Plot:** To visualize the distribution of social dependence scores across different ranges of body image negative affect scores.\n",
    "\n",
    "### 5. Assumptions\n",
    "- **Linearity:** The relationship between body image negative affect and social dependence is linear.\n",
    "- **Independence:** Observations are independent of each other.\n",
    "- **Homoscedasticity:** Constant variance of residuals across the range of `PSYCH_body_self_image_questionnaire_negative_affect_score`.\n",
    "- **Normality:** The residuals of the regression model are normally distributed.\n",
    "\n",
    "### 6. Hypothesis Testing\n",
    "- **Null Hypothesis (H0):** There is no relationship between body image negative affect and social dependence scores.\n",
    "- **Alternative Hypothesis (H1):** There is a significant relationship between body image negative affect and social dependence scores."
   ]
  },
  {
   "cell_type": "code",
   "execution_count": null,
   "id": "167d0070",
   "metadata": {},
   "outputs": [],
   "source": []
  }
 ],
 "metadata": {
  "kernelspec": {
   "display_name": "Python 3 (ipykernel)",
   "language": "python",
   "name": "python3"
  },
  "language_info": {
   "codemirror_mode": {
    "name": "ipython",
    "version": 3
   },
   "file_extension": ".py",
   "mimetype": "text/x-python",
   "name": "python",
   "nbconvert_exporter": "python",
   "pygments_lexer": "ipython3",
   "version": "3.11.6"
  }
 },
 "nbformat": 4,
 "nbformat_minor": 5
}
